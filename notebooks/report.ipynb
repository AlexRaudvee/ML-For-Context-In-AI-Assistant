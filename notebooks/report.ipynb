{
 "cells": [
  {
   "cell_type": "code",
   "execution_count": null,
   "metadata": {},
   "outputs": [],
   "source": [
    "\"\"\" TEST FILE 1\n",
    "Utilities for reading and writing tabular and JSON data.\n",
    "\n",
    "Queries you can try:\n",
    "- \"read a csv file in pandas\"\n",
    "- \"save a dataframe to csv without index\"\n",
    "- \"load json from a file and pretty print\"\n",
    "\"\"\"\n",
    "\n",
    "\"\"\" TEST FILE 2\n",
    "Classic algorithms: binary search, quicksort, and two-sum.\n",
    "\n",
    "Queries you can try:\n",
    "- \"binary search python\"\n",
    "- \"quicksort implementation\"\n",
    "- \"find two numbers that sum to target\"\n",
    "\"\"\"\n",
    "\n",
    "\"\"\" TEST FILE 3\n",
    "Simple HTTP helpers using requests.\n",
    "\n",
    "Queries you can try:\n",
    "- \"fetch json from a url with requests\"\n",
    "- \"download a file with streaming\"\n",
    "- \"POST form data in python\"\n",
    "\"\"\""
   ]
  },
  {
   "cell_type": "code",
   "execution_count": 2,
   "metadata": {},
   "outputs": [
    {
     "name": "stdout",
     "output_type": "stream",
     "text": [
      "#1  id=1  score=0.8803\n",
      "---\n",
      "\n",
      "import argparse, math, os, json\n",
      "from dataclasses import dataclass\n",
      "from typing import List, Tuple\n",
      "\n",
      "import torch\n",
      "from torch.utils.data import DataLoader, Dataset\n",
      "from transformers import AutoTokenizer, AutoModel\n",
      "\n",
      "from codesearch.data.cosqa import load_cosqa\n",
      "from codesearch.train.losses import MultipleNegativesRankingLoss, InfoNCELoss\n",
      "\n",
      "@dataclass\n",
      "class PairDataset(Dataset):\n",
      "    queries: List[str]\n",
      "  \n",
      "\n",
      "#2  id=0  score=0.9664\n",
      "---\n",
      "\n",
      "import torch\n",
      "import torch.nn as nn\n",
      "import torch.nn.functional as F\n",
      "\n",
      "class InfoNCELoss(nn.Module):\n",
      "    def __init__(self, temperature: float = 0.07):\n",
      "        super().__init__()\n",
      "        self.tau = temperature\n",
      "\n",
      "    def forward(self, z_a: torch.Tensor, z_b: torch.Tensor) -> torch.Tensor:\n",
      "        # Normalize\n",
      "        z_a = F.normalize(z_a, dim=-1)\n",
      "        z_b = F.normalize(z_b, dim=-1)\n",
      "        logits =\n",
      "\n"
     ]
    }
   ],
   "source": [
    "import requests, json\n",
    "\n",
    "BASE_URL = \"http://0.0.0.0:8000\" \n",
    "\n",
    "def search(query: str, k: int = 5):\n",
    "    url = f\"{BASE_URL}/search\"\n",
    "    payload = {\"query\": query, \"k\": k}\n",
    "    r = requests.post(url, json=payload, timeout=30)\n",
    "    r.raise_for_status()\n",
    "    return r.json()\n",
    "\n",
    "def pretty_print(resp: dict):\n",
    "    for i, item in enumerate(resp.get(\"results\", []), 1):\n",
    "        print(f\"#{i}  id={item['id']}  score={item['score']:.4f}\\n---\\n{item['text'][:400]}\\n\")\n",
    "\n",
    "resp = search(\"read a csv file in pandas\", k=5)\n",
    "pretty_print(resp)\n"
   ]
  },
  {
   "cell_type": "code",
   "execution_count": null,
   "metadata": {},
   "outputs": [],
   "source": []
  }
 ],
 "metadata": {
  "kernelspec": {
   "display_name": "Python 3",
   "language": "python",
   "name": "python3"
  },
  "language_info": {
   "codemirror_mode": {
    "name": "ipython",
    "version": 3
   },
   "file_extension": ".py",
   "mimetype": "text/x-python",
   "name": "python",
   "nbconvert_exporter": "python",
   "pygments_lexer": "ipython3",
   "version": "3.12.10"
  }
 },
 "nbformat": 4,
 "nbformat_minor": 2
}
